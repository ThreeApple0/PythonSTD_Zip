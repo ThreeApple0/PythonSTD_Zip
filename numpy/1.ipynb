{
 "cells": [
  {
   "cell_type": "code",
   "execution_count": 1,
   "id": "5b29b7ca-5e86-4341-90f9-acd4e02b527c",
   "metadata": {},
   "outputs": [],
   "source": [
    "import numpy as np"
   ]
  },
  {
   "cell_type": "code",
   "execution_count": 2,
   "id": "8289b2e9-bb05-4362-919b-a365bc64aa44",
   "metadata": {},
   "outputs": [
    {
     "name": "stdout",
     "output_type": "stream",
     "text": [
      "3\n",
      "int32\n",
      "1\n"
     ]
    }
   ],
   "source": [
    "arr = np.array([1,2,3])\n",
    "print(arr.size)\n",
    "print(arr.dtype)\n",
    "print(arr[0])"
   ]
  },
  {
   "cell_type": "code",
   "execution_count": 6,
   "id": "d7c82b0f-5214-4fd1-838e-97e10642d7c7",
   "metadata": {},
   "outputs": [
    {
     "name": "stdout",
     "output_type": "stream",
     "text": [
      "[0 1 2 3 4]\n",
      "[['1' '1']\n",
      " ['1' '1']]\n",
      "[[0 0 0]\n",
      " [0 0 0]\n",
      " [0 0 0]]\n"
     ]
    }
   ],
   "source": [
    "# 0~4\n",
    "a1=np.arange(5)\n",
    "# 1로 초기화\n",
    "a2=np.ones((2,2),dtype=str)\n",
    "# 0으로 초기화\n",
    "a3=np.zeros((3,3),dtype=int)\n",
    "\n",
    "print(a1)\n",
    "print(a2)\n",
    "print(a3)"
   ]
  },
  {
   "cell_type": "code",
   "execution_count": 8,
   "id": "38f74029-15c5-4257-8aef-9581cc646fb1",
   "metadata": {},
   "outputs": [
    {
     "name": "stdout",
     "output_type": "stream",
     "text": [
      "[[2 5 6 1]\n",
      " [3 8 7 6]\n",
      " [9 3 2 4]\n",
      " [3 5 9 6]]\n",
      "[[ 0.10828513 -0.65825478 -0.03378059 -0.74747243]\n",
      " [-0.13165298 -1.52188955 -0.21617764 -1.32344056]\n",
      " [ 0.1735209   0.70602547  1.92689632  1.11778818]\n",
      " [-0.49668919 -0.58846454  1.89231723 -2.42917009]]\n"
     ]
    }
   ],
   "source": [
    "# 0~9까지 랜덤으로 초기화\n",
    "a4 = np.random.randint(0,10,(4,4))\n",
    "# 평균 0 , 표준편차 1로 초기화\n",
    "a5 = np.random.normal(0,1,(4,4))\n",
    "\n",
    "print(a4)\n",
    "print(a5)"
   ]
  },
  {
   "cell_type": "code",
   "execution_count": 23,
   "id": "2ed96739-f218-4b96-9f43-e09e07386bfe",
   "metadata": {},
   "outputs": [
    {
     "name": "stdout",
     "output_type": "stream",
     "text": [
      "[1 2 3 7 8 9]\n",
      "[1 2 3 7 8 9]\n"
     ]
    }
   ],
   "source": [
    "# 배열 합치기\n",
    "\n",
    "a1 = np.array([1,2,3])\n",
    "a2 = np.array([7,8,9])\n",
    "\n",
    "# 가로로\n",
    "a3 = np.concatenate([a1,a2])\n",
    "print(a3)\n",
    "a3 = np.hstack((a1,a2))\n",
    "print(a3)"
   ]
  },
  {
   "cell_type": "code",
   "execution_count": 24,
   "id": "664c7e0d-d2fa-4675-a4ac-2757a3d3c190",
   "metadata": {},
   "outputs": [
    {
     "name": "stdout",
     "output_type": "stream",
     "text": [
      "[[1 2 3]\n",
      " [7 8 9]]\n",
      "[[[1 7]\n",
      "  [2 8]\n",
      "  [3 9]]]\n"
     ]
    }
   ],
   "source": [
    "# 세로로\n",
    "a4 = np.vstack((a1,a2))\n",
    "print(a4)\n",
    "a4 = np.dstack((a1,a2))\n",
    "print(a4)"
   ]
  },
  {
   "cell_type": "code",
   "execution_count": 25,
   "id": "e9dae7b0-cb07-4dad-a8d5-69265864a646",
   "metadata": {},
   "outputs": [
    {
     "name": "stdout",
     "output_type": "stream",
     "text": [
      "[[1 2]\n",
      " [3 7]\n",
      " [8 9]]\n"
     ]
    }
   ],
   "source": [
    "# 형태 변형\n",
    "\n",
    "a3=a3.reshape((3,2))\n",
    "print(a3)"
   ]
  },
  {
   "cell_type": "code",
   "execution_count": 39,
   "id": "f0121d14-4fc4-4d49-8382-56722fd87811",
   "metadata": {},
   "outputs": [
    {
     "name": "stdout",
     "output_type": "stream",
     "text": [
      "[[0 1 2 3]\n",
      " [4 5 6 7]]\n",
      "[[0 1 2 3]]\n",
      "[[4 5 6 7]]\n"
     ]
    }
   ],
   "source": [
    "# 배열 나누기\n",
    "arr = np.arange(8).reshape(2,4)\n",
    "print(arr)\n",
    "\n",
    "a1, a2 = np.split(arr,2,axis=0)\n",
    "print(a1)\n",
    "print(a2)"
   ]
  },
  {
   "cell_type": "code",
   "execution_count": 40,
   "id": "7502e88d-33c2-42ff-9fff-e0722c5b0783",
   "metadata": {},
   "outputs": [
    {
     "name": "stdout",
     "output_type": "stream",
     "text": [
      "[[0 1]\n",
      " [4 5]]\n",
      "[[2 3]\n",
      " [6 7]]\n"
     ]
    }
   ],
   "source": [
    "a1, a2 = np.split(arr,2,axis=1)\n",
    "print(a1)\n",
    "print(a2)"
   ]
  },
  {
   "cell_type": "code",
   "execution_count": 43,
   "id": "e62cbd7e-1a22-4837-8a1b-a372db74c4f4",
   "metadata": {},
   "outputs": [
    {
     "name": "stdout",
     "output_type": "stream",
     "text": [
      "[[1 2 3 4]\n",
      " [5 6 7 8]]\n",
      "[[ 0 10 20 30]\n",
      " [40 50 60 70]]\n"
     ]
    }
   ],
   "source": [
    "# 연산\n",
    "print(arr+1)\n",
    "print(arr*10)"
   ]
  },
  {
   "cell_type": "code",
   "execution_count": 46,
   "id": "444507db-255f-472d-8781-79f54c4316c9",
   "metadata": {},
   "outputs": [
    {
     "name": "stdout",
     "output_type": "stream",
     "text": [
      "[[ 0  2  4  6]\n",
      " [ 4  6  8 10]\n",
      " [ 8 10 12 14]\n",
      " [12 14 16 18]]\n"
     ]
    }
   ],
   "source": [
    "# 배열끼리 연산\n",
    "a1 = np.arange(16).reshape(4,4)\n",
    "a2 = np.arange(4)\n",
    "print(a1+a2)"
   ]
  },
  {
   "cell_type": "code",
   "execution_count": 47,
   "id": "ca2efbc6-fc84-4cef-9a67-7acfd71b4928",
   "metadata": {},
   "outputs": [
    {
     "name": "stdout",
     "output_type": "stream",
     "text": [
      "[[ 0  1  2  3]\n",
      " [ 5  6  7  8]\n",
      " [10 11 12 13]\n",
      " [15 16 17 18]]\n"
     ]
    }
   ],
   "source": [
    "a2 = a2.reshape(4,1)\n",
    "print(a1+a2)"
   ]
  },
  {
   "cell_type": "code",
   "execution_count": 55,
   "id": "642de4ef-c436-43b7-93f0-572f8e6f199b",
   "metadata": {},
   "outputs": [
    {
     "name": "stdout",
     "output_type": "stream",
     "text": [
      "[[ True  True  True  True]\n",
      " [ True  True  True  True]\n",
      " [ True  True False False]\n",
      " [False False False False]]\n",
      "[[100 100 100 100]\n",
      " [100 100 100 100]\n",
      " [100 100  10  11]\n",
      " [ 12  13  14  15]]\n"
     ]
    }
   ],
   "source": [
    "# 체크하기\n",
    "a1 = np.arange(16).reshape(4,4)\n",
    "\n",
    "a2 = a1<10\n",
    "print(a2)\n",
    "a1[a2]=100\n",
    "print(a1)"
   ]
  },
  {
   "cell_type": "code",
   "execution_count": 57,
   "id": "cb6239b4-4531-494b-8874-fd1ff781332a",
   "metadata": {},
   "outputs": [
    {
     "name": "stdout",
     "output_type": "stream",
     "text": [
      "15\n",
      "0\n",
      "120\n",
      "7.5\n"
     ]
    }
   ],
   "source": [
    "# 여러 함수\n",
    "a1 = np.arange(16).reshape(4,4)\n",
    "\n",
    "print(np.max(a1)) #최대\n",
    "print(np.min(a1)) #최소\n",
    "print(np.sum(a1)) #합\n",
    "print(np.mean(a1)) #평균"
   ]
  },
  {
   "cell_type": "code",
   "execution_count": 62,
   "id": "d09c9aad-7250-4434-88ea-c3f811628571",
   "metadata": {},
   "outputs": [
    {
     "name": "stdout",
     "output_type": "stream",
     "text": [
      "[[ 0  1  2  3]\n",
      " [ 4  5  6  7]\n",
      " [ 8  9 10 11]\n",
      " [12 13 14 15]]\n",
      "[24 28 32 36]\n",
      "[ 6 22 38 54]\n"
     ]
    }
   ],
   "source": [
    "print(a1)\n",
    "print(np.sum(a1,axis=0))\n",
    "print(np.sum(a1,axis=1))"
   ]
  },
  {
   "cell_type": "code",
   "execution_count": 63,
   "id": "b81d40bb-0042-4b79-a8c1-d8db8e908ed4",
   "metadata": {},
   "outputs": [
    {
     "name": "stdout",
     "output_type": "stream",
     "text": [
      "[ 0.  2.  4.  6.  8. 10.]\n",
      "[[0 5 1 8 1]]\n",
      "[1 2 3]\n"
     ]
    }
   ],
   "source": [
    "# 같은 간격으로 초기화\n",
    "a1 = np.linspace(0,10,6)\n",
    "print(a1)\n",
    "\n",
    "# 시드 고정\n",
    "np.random.seed(999)\n",
    "print(np.random.randint(0,10,(1,5)))\n",
    "\n",
    "# 중복 원소 제거\n",
    "a2 = np.array([1,1,2,3,1,2,3,3,3])\n",
    "print(np.unique(a2))"
   ]
  },
  {
   "cell_type": "code",
   "execution_count": 67,
   "id": "531a89d0-a530-4483-b261-22fa0f414ec9",
   "metadata": {},
   "outputs": [
    {
     "name": "stdout",
     "output_type": "stream",
     "text": [
      "[4 5 6 7 9]\n",
      "[9 7 6 5 4]\n"
     ]
    }
   ],
   "source": [
    "# 정렬\n",
    "arr = np.array([4,7,5,6,9])\n",
    "arr.sort()\n",
    "print(arr) # 오름차순\n",
    "print(arr[::-1]) # 내림차순"
   ]
  },
  {
   "cell_type": "code",
   "execution_count": 69,
   "id": "ffbe7576-22f2-4e01-9829-a62cdb33b2e2",
   "metadata": {},
   "outputs": [
    {
     "name": "stdout",
     "output_type": "stream",
     "text": [
      "[0 1 2 3 4]\n",
      "[5 6 7 8 9]\n"
     ]
    }
   ],
   "source": [
    "# 저장 , 불러오기\n",
    "a1 = np.arange(0,5)\n",
    "a2 = np.arange(5,10)\n",
    "np.savez('saved.npz',array1=a1,array2=a2)\n",
    "\n",
    "data=np.load('saved.npz')\n",
    "r1 = data['array1']\n",
    "r2 = data['array2']\n",
    "print(r1)\n",
    "print(r2)"
   ]
  },
  {
   "cell_type": "code",
   "execution_count": null,
   "id": "af3af442-7f60-4771-ab58-a9bbf33aa8db",
   "metadata": {},
   "outputs": [],
   "source": []
  }
 ],
 "metadata": {
  "kernelspec": {
   "display_name": "Python 3 (ipykernel)",
   "language": "python",
   "name": "python3"
  },
  "language_info": {
   "codemirror_mode": {
    "name": "ipython",
    "version": 3
   },
   "file_extension": ".py",
   "mimetype": "text/x-python",
   "name": "python",
   "nbconvert_exporter": "python",
   "pygments_lexer": "ipython3",
   "version": "3.9.13"
  }
 },
 "nbformat": 4,
 "nbformat_minor": 5
}
